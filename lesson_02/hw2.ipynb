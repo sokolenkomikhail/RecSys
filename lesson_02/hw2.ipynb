{
 "cells": [
  {
   "cell_type": "code",
   "execution_count": 1,
   "metadata": {},
   "outputs": [],
   "source": [
    "import numpy as np\n",
    "import pandas as pd"
   ]
  },
  {
   "cell_type": "code",
   "execution_count": 167,
   "metadata": {},
   "outputs": [],
   "source": [
    "data = pd.read_csv('./data/retail_train.csv')"
   ]
  },
  {
   "cell_type": "code",
   "execution_count": 168,
   "metadata": {},
   "outputs": [
    {
     "data": {
      "text/html": [
       "<div>\n",
       "<style scoped>\n",
       "    .dataframe tbody tr th:only-of-type {\n",
       "        vertical-align: middle;\n",
       "    }\n",
       "\n",
       "    .dataframe tbody tr th {\n",
       "        vertical-align: top;\n",
       "    }\n",
       "\n",
       "    .dataframe thead th {\n",
       "        text-align: right;\n",
       "    }\n",
       "</style>\n",
       "<table border=\"1\" class=\"dataframe\">\n",
       "  <thead>\n",
       "    <tr style=\"text-align: right;\">\n",
       "      <th></th>\n",
       "      <th>user_id</th>\n",
       "      <th>basket_id</th>\n",
       "      <th>day</th>\n",
       "      <th>item_id</th>\n",
       "      <th>quantity</th>\n",
       "      <th>sales_value</th>\n",
       "      <th>store_id</th>\n",
       "      <th>retail_disc</th>\n",
       "      <th>trans_time</th>\n",
       "      <th>week_no</th>\n",
       "      <th>coupon_disc</th>\n",
       "      <th>coupon_match_disc</th>\n",
       "    </tr>\n",
       "  </thead>\n",
       "  <tbody>\n",
       "    <tr>\n",
       "      <th>0</th>\n",
       "      <td>2375</td>\n",
       "      <td>26984851472</td>\n",
       "      <td>1</td>\n",
       "      <td>1004906</td>\n",
       "      <td>1</td>\n",
       "      <td>1.39</td>\n",
       "      <td>364</td>\n",
       "      <td>-0.60</td>\n",
       "      <td>1631</td>\n",
       "      <td>1</td>\n",
       "      <td>0.0</td>\n",
       "      <td>0.0</td>\n",
       "    </tr>\n",
       "    <tr>\n",
       "      <th>1</th>\n",
       "      <td>2375</td>\n",
       "      <td>26984851472</td>\n",
       "      <td>1</td>\n",
       "      <td>1033142</td>\n",
       "      <td>1</td>\n",
       "      <td>0.82</td>\n",
       "      <td>364</td>\n",
       "      <td>0.00</td>\n",
       "      <td>1631</td>\n",
       "      <td>1</td>\n",
       "      <td>0.0</td>\n",
       "      <td>0.0</td>\n",
       "    </tr>\n",
       "    <tr>\n",
       "      <th>2</th>\n",
       "      <td>2375</td>\n",
       "      <td>26984851472</td>\n",
       "      <td>1</td>\n",
       "      <td>1036325</td>\n",
       "      <td>1</td>\n",
       "      <td>0.99</td>\n",
       "      <td>364</td>\n",
       "      <td>-0.30</td>\n",
       "      <td>1631</td>\n",
       "      <td>1</td>\n",
       "      <td>0.0</td>\n",
       "      <td>0.0</td>\n",
       "    </tr>\n",
       "    <tr>\n",
       "      <th>3</th>\n",
       "      <td>2375</td>\n",
       "      <td>26984851472</td>\n",
       "      <td>1</td>\n",
       "      <td>1082185</td>\n",
       "      <td>1</td>\n",
       "      <td>1.21</td>\n",
       "      <td>364</td>\n",
       "      <td>0.00</td>\n",
       "      <td>1631</td>\n",
       "      <td>1</td>\n",
       "      <td>0.0</td>\n",
       "      <td>0.0</td>\n",
       "    </tr>\n",
       "    <tr>\n",
       "      <th>4</th>\n",
       "      <td>2375</td>\n",
       "      <td>26984851472</td>\n",
       "      <td>1</td>\n",
       "      <td>8160430</td>\n",
       "      <td>1</td>\n",
       "      <td>1.50</td>\n",
       "      <td>364</td>\n",
       "      <td>-0.39</td>\n",
       "      <td>1631</td>\n",
       "      <td>1</td>\n",
       "      <td>0.0</td>\n",
       "      <td>0.0</td>\n",
       "    </tr>\n",
       "  </tbody>\n",
       "</table>\n",
       "</div>"
      ],
      "text/plain": [
       "   user_id    basket_id  day  item_id  quantity  sales_value  store_id  \\\n",
       "0     2375  26984851472    1  1004906         1         1.39       364   \n",
       "1     2375  26984851472    1  1033142         1         0.82       364   \n",
       "2     2375  26984851472    1  1036325         1         0.99       364   \n",
       "3     2375  26984851472    1  1082185         1         1.21       364   \n",
       "4     2375  26984851472    1  8160430         1         1.50       364   \n",
       "\n",
       "   retail_disc  trans_time  week_no  coupon_disc  coupon_match_disc  \n",
       "0        -0.60        1631        1          0.0                0.0  \n",
       "1         0.00        1631        1          0.0                0.0  \n",
       "2        -0.30        1631        1          0.0                0.0  \n",
       "3         0.00        1631        1          0.0                0.0  \n",
       "4        -0.39        1631        1          0.0                0.0  "
      ]
     },
     "execution_count": 168,
     "metadata": {},
     "output_type": "execute_result"
    }
   ],
   "source": [
    "data.head()"
   ]
  },
  {
   "cell_type": "markdown",
   "metadata": {},
   "source": [
    "### Train-test split"
   ]
  },
  {
   "cell_type": "code",
   "execution_count": 169,
   "metadata": {},
   "outputs": [],
   "source": [
    "test_size_weeks = 3\n",
    "\n",
    "data_train = data[data['week_no'] < data['week_no'].max() - test_size_weeks]\n",
    "data_test = data[data['week_no'] >= data['week_no'].max() - test_size_weeks]"
   ]
  },
  {
   "cell_type": "code",
   "execution_count": 170,
   "metadata": {},
   "outputs": [
    {
     "data": {
      "text/plain": [
       "(2278490, 118314)"
      ]
     },
     "execution_count": 170,
     "metadata": {},
     "output_type": "execute_result"
    }
   ],
   "source": [
    "data_train.shape[0], data_test.shape[0]"
   ]
  },
  {
   "cell_type": "markdown",
   "metadata": {},
   "source": [
    "### weighted_random_recommendation"
   ]
  },
  {
   "cell_type": "code",
   "execution_count": 171,
   "metadata": {},
   "outputs": [],
   "source": [
    "sales_sum = data_train.groupby(['item_id'])['sales_value'].sum()"
   ]
  },
  {
   "cell_type": "code",
   "execution_count": 172,
   "metadata": {},
   "outputs": [
    {
     "data": {
      "text/plain": [
       "False    83450\n",
       "True      3415\n",
       "Name: sales_value, dtype: int64"
      ]
     },
     "execution_count": 172,
     "metadata": {},
     "output_type": "execute_result"
    }
   ],
   "source": [
    "(sales_sum < 1).value_counts()"
   ]
  },
  {
   "cell_type": "code",
   "execution_count": 173,
   "metadata": {},
   "outputs": [
    {
     "data": {
      "text/plain": [
       "False    86456\n",
       "True       409\n",
       "Name: sales_value, dtype: int64"
      ]
     },
     "execution_count": 173,
     "metadata": {},
     "output_type": "execute_result"
    }
   ],
   "source": [
    "(sales_sum == 0).value_counts()"
   ]
  },
  {
   "cell_type": "markdown",
   "metadata": {},
   "source": [
    "Присутствует 3415 товаров с суммой покупок меньше 1, из них 409 товаров с суммой равной 0. Чтобы корректно посчитать веса (log(sales_sum)), прибавим единицу ко всем значениям. \n",
    "\n",
    "Затем нормируем их."
   ]
  },
  {
   "cell_type": "code",
   "execution_count": 213,
   "metadata": {},
   "outputs": [
    {
     "data": {
      "text/html": [
       "<div>\n",
       "<style scoped>\n",
       "    .dataframe tbody tr th:only-of-type {\n",
       "        vertical-align: middle;\n",
       "    }\n",
       "\n",
       "    .dataframe tbody tr th {\n",
       "        vertical-align: top;\n",
       "    }\n",
       "\n",
       "    .dataframe thead th {\n",
       "        text-align: right;\n",
       "    }\n",
       "</style>\n",
       "<table border=\"1\" class=\"dataframe\">\n",
       "  <thead>\n",
       "    <tr style=\"text-align: right;\">\n",
       "      <th></th>\n",
       "      <th>item_id</th>\n",
       "      <th>weight</th>\n",
       "    </tr>\n",
       "  </thead>\n",
       "  <tbody>\n",
       "    <tr>\n",
       "      <th>56233</th>\n",
       "      <td>6534178</td>\n",
       "      <td>0.000053</td>\n",
       "    </tr>\n",
       "    <tr>\n",
       "      <th>56193</th>\n",
       "      <td>6533889</td>\n",
       "      <td>0.000043</td>\n",
       "    </tr>\n",
       "    <tr>\n",
       "      <th>29195</th>\n",
       "      <td>1029743</td>\n",
       "      <td>0.000043</td>\n",
       "    </tr>\n",
       "    <tr>\n",
       "      <th>56228</th>\n",
       "      <td>6534166</td>\n",
       "      <td>0.000042</td>\n",
       "    </tr>\n",
       "    <tr>\n",
       "      <th>35054</th>\n",
       "      <td>1082185</td>\n",
       "      <td>0.000041</td>\n",
       "    </tr>\n",
       "  </tbody>\n",
       "</table>\n",
       "</div>"
      ],
      "text/plain": [
       "       item_id    weight\n",
       "56233  6534178  0.000053\n",
       "56193  6533889  0.000043\n",
       "29195  1029743  0.000043\n",
       "56228  6534166  0.000042\n",
       "35054  1082185  0.000041"
      ]
     },
     "execution_count": 213,
     "metadata": {},
     "output_type": "execute_result"
    }
   ],
   "source": [
    "items_weights = data.groupby(['item_id'])['sales_value'].sum().reset_index()\n",
    "items_weights.rename(columns={'sales_value': 'weight'}, inplace=True)\n",
    "\n",
    "items_weights['weight'] = np.log(items_weights['weight'] + 1)\n",
    "items_weights['weight'] = items_weights['weight'] / items_weights['weight'].sum()\n",
    "\n",
    "items_weights.sort_values(by='weight', ascending=False).head()"
   ]
  },
  {
   "cell_type": "code",
   "execution_count": 216,
   "metadata": {},
   "outputs": [],
   "source": [
    "def weighted_random_recommendation(items_weights, n=5):\n",
    "    \"\"\"Случайные рекоммендации\n",
    "    \n",
    "    Input\n",
    "    -----\n",
    "    items_weights: pd.DataFrame\n",
    "        Датафрейм со столбцами item_id, weight. Сумма weight по всем товарам = 1\n",
    "    \"\"\"\n",
    "    items = items_weights['item_id'].values\n",
    "    weight = items_weights['weight'].values\n",
    "    \n",
    "    recs = np.random.choice(items, size=n, p=weight)\n",
    "    \n",
    "    return recs.tolist()"
   ]
  },
  {
   "cell_type": "code",
   "execution_count": 217,
   "metadata": {},
   "outputs": [
    {
     "data": {
      "text/plain": [
       "[832607, 989662, 12384806, 7168439, 1049391]"
      ]
     },
     "execution_count": 217,
     "metadata": {},
     "output_type": "execute_result"
    }
   ],
   "source": [
    "weighted_random_recommendation(items_weights, n=5)"
   ]
  },
  {
   "cell_type": "markdown",
   "metadata": {},
   "source": [
    "### Можно ли улучшить бейзлайны, если считать их на топ-5000 товарах?"
   ]
  },
  {
   "cell_type": "code",
   "execution_count": 91,
   "metadata": {},
   "outputs": [],
   "source": [
    "def random_recommendation(items, n=5):\n",
    "    \"\"\"Случайные рекоммендации\"\"\"\n",
    "    \n",
    "    items = np.array(items)\n",
    "    recs = np.random.choice(items, size=n, replace=False)\n",
    "    \n",
    "    return recs.tolist()"
   ]
  },
  {
   "cell_type": "code",
   "execution_count": 92,
   "metadata": {},
   "outputs": [],
   "source": [
    "def popularity_recommendation(data, n=5):\n",
    "    \"\"\"Топ-n популярных товаров\"\"\"\n",
    "    \n",
    "    popular = data.groupby('item_id')['sales_value'].sum().reset_index()\n",
    "    popular.sort_values('sales_value', ascending=False, inplace=True)\n",
    "    \n",
    "    recs = popular.head(n).item_id\n",
    "    #print(recs)\n",
    "    return recs.tolist()"
   ]
  },
  {
   "cell_type": "code",
   "execution_count": 93,
   "metadata": {},
   "outputs": [],
   "source": [
    "def weighted_random_recommendation(items_weights, n=5):\n",
    "    \"\"\"Случайные рекоммендации\n",
    "    \n",
    "    Input\n",
    "    -----\n",
    "    items_weights: pd.DataFrame\n",
    "        Датафрейм со столбцами item_id, weight. Сумма weight по всем товарам = 1\n",
    "    \"\"\"\n",
    "    items = items_weights['item_id'].values\n",
    "    weight = items_weights['weight'].values\n",
    "    \n",
    "    recs = np.random.choice(items, size=n, p=weight)\n",
    "    \n",
    "    return recs.tolist()"
   ]
  },
  {
   "cell_type": "markdown",
   "metadata": {},
   "source": [
    "Зададим функцию для получения весов."
   ]
  },
  {
   "cell_type": "code",
   "execution_count": 176,
   "metadata": {},
   "outputs": [],
   "source": [
    "def get_weights(data):\n",
    "    '''Получение весов для айтемов\n",
    "    \n",
    "    Input\n",
    "    -----\n",
    "    data: pd.DataFrame\n",
    "        \n",
    "    '''\n",
    "    items_weights = data.groupby(['item_id'])['sales_value'].sum().reset_index()\n",
    "    items_weights.rename(columns={'sales_value': 'weight'}, inplace=True)\n",
    "    \n",
    "    items_weights['weight'] = np.log(items_weights['weight'] + 1)\n",
    "    items_weights['weight'] = items_weights['weight'] / items_weights['weight'].sum()\n",
    "    \n",
    "    return items_weights"
   ]
  },
  {
   "cell_type": "code",
   "execution_count": 178,
   "metadata": {},
   "outputs": [
    {
     "data": {
      "text/html": [
       "<div>\n",
       "<style scoped>\n",
       "    .dataframe tbody tr th:only-of-type {\n",
       "        vertical-align: middle;\n",
       "    }\n",
       "\n",
       "    .dataframe tbody tr th {\n",
       "        vertical-align: top;\n",
       "    }\n",
       "\n",
       "    .dataframe thead th {\n",
       "        text-align: right;\n",
       "    }\n",
       "</style>\n",
       "<table border=\"1\" class=\"dataframe\">\n",
       "  <thead>\n",
       "    <tr style=\"text-align: right;\">\n",
       "      <th></th>\n",
       "      <th>item_id</th>\n",
       "      <th>weight</th>\n",
       "    </tr>\n",
       "  </thead>\n",
       "  <tbody>\n",
       "    <tr>\n",
       "      <th>0</th>\n",
       "      <td>25671</td>\n",
       "      <td>0.000013</td>\n",
       "    </tr>\n",
       "    <tr>\n",
       "      <th>1</th>\n",
       "      <td>26081</td>\n",
       "      <td>0.000003</td>\n",
       "    </tr>\n",
       "    <tr>\n",
       "      <th>2</th>\n",
       "      <td>26093</td>\n",
       "      <td>0.000004</td>\n",
       "    </tr>\n",
       "    <tr>\n",
       "      <th>3</th>\n",
       "      <td>26190</td>\n",
       "      <td>0.000004</td>\n",
       "    </tr>\n",
       "    <tr>\n",
       "      <th>4</th>\n",
       "      <td>26355</td>\n",
       "      <td>0.000005</td>\n",
       "    </tr>\n",
       "  </tbody>\n",
       "</table>\n",
       "</div>"
      ],
      "text/plain": [
       "   item_id    weight\n",
       "0    25671  0.000013\n",
       "1    26081  0.000003\n",
       "2    26093  0.000004\n",
       "3    26190  0.000004\n",
       "4    26355  0.000005"
      ]
     },
     "execution_count": 178,
     "metadata": {},
     "output_type": "execute_result"
    }
   ],
   "source": [
    "get_weights(data_train).head()"
   ]
  },
  {
   "cell_type": "code",
   "execution_count": 179,
   "metadata": {},
   "outputs": [
    {
     "data": {
      "text/html": [
       "<div>\n",
       "<style scoped>\n",
       "    .dataframe tbody tr th:only-of-type {\n",
       "        vertical-align: middle;\n",
       "    }\n",
       "\n",
       "    .dataframe tbody tr th {\n",
       "        vertical-align: top;\n",
       "    }\n",
       "\n",
       "    .dataframe thead th {\n",
       "        text-align: right;\n",
       "    }\n",
       "</style>\n",
       "<table border=\"1\" class=\"dataframe\">\n",
       "  <thead>\n",
       "    <tr style=\"text-align: right;\">\n",
       "      <th></th>\n",
       "      <th>user_id</th>\n",
       "      <th>actual</th>\n",
       "    </tr>\n",
       "  </thead>\n",
       "  <tbody>\n",
       "    <tr>\n",
       "      <th>0</th>\n",
       "      <td>1</td>\n",
       "      <td>[821867, 834484, 856942, 865456, 889248, 90795...</td>\n",
       "    </tr>\n",
       "    <tr>\n",
       "      <th>1</th>\n",
       "      <td>3</td>\n",
       "      <td>[835476, 851057, 872021, 878302, 879948, 90963...</td>\n",
       "    </tr>\n",
       "  </tbody>\n",
       "</table>\n",
       "</div>"
      ],
      "text/plain": [
       "   user_id                                             actual\n",
       "0        1  [821867, 834484, 856942, 865456, 889248, 90795...\n",
       "1        3  [835476, 851057, 872021, 878302, 879948, 90963..."
      ]
     },
     "execution_count": 179,
     "metadata": {},
     "output_type": "execute_result"
    }
   ],
   "source": [
    "result = data_test.groupby('user_id')['item_id'].unique().reset_index()\n",
    "result.columns=['user_id', 'actual']\n",
    "result.head(2)"
   ]
  },
  {
   "cell_type": "code",
   "execution_count": 137,
   "metadata": {},
   "outputs": [
    {
     "data": {
      "text/html": [
       "<div>\n",
       "<style scoped>\n",
       "    .dataframe tbody tr th:only-of-type {\n",
       "        vertical-align: middle;\n",
       "    }\n",
       "\n",
       "    .dataframe tbody tr th {\n",
       "        vertical-align: top;\n",
       "    }\n",
       "\n",
       "    .dataframe thead th {\n",
       "        text-align: right;\n",
       "    }\n",
       "</style>\n",
       "<table border=\"1\" class=\"dataframe\">\n",
       "  <thead>\n",
       "    <tr style=\"text-align: right;\">\n",
       "      <th></th>\n",
       "      <th>item_id</th>\n",
       "      <th>n_sold</th>\n",
       "    </tr>\n",
       "  </thead>\n",
       "  <tbody>\n",
       "    <tr>\n",
       "      <th>0</th>\n",
       "      <td>25671</td>\n",
       "      <td>6</td>\n",
       "    </tr>\n",
       "    <tr>\n",
       "      <th>1</th>\n",
       "      <td>26081</td>\n",
       "      <td>1</td>\n",
       "    </tr>\n",
       "    <tr>\n",
       "      <th>2</th>\n",
       "      <td>26093</td>\n",
       "      <td>1</td>\n",
       "    </tr>\n",
       "    <tr>\n",
       "      <th>3</th>\n",
       "      <td>26190</td>\n",
       "      <td>1</td>\n",
       "    </tr>\n",
       "    <tr>\n",
       "      <th>4</th>\n",
       "      <td>26355</td>\n",
       "      <td>2</td>\n",
       "    </tr>\n",
       "  </tbody>\n",
       "</table>\n",
       "</div>"
      ],
      "text/plain": [
       "   item_id  n_sold\n",
       "0    25671       6\n",
       "1    26081       1\n",
       "2    26093       1\n",
       "3    26190       1\n",
       "4    26355       2"
      ]
     },
     "execution_count": 137,
     "metadata": {},
     "output_type": "execute_result"
    }
   ],
   "source": [
    "popularity = data_train.groupby('item_id')['quantity'].sum().reset_index()\n",
    "popularity.rename(columns={'quantity': 'n_sold'}, inplace=True)\n",
    "\n",
    "popularity.head()"
   ]
  },
  {
   "cell_type": "code",
   "execution_count": 184,
   "metadata": {},
   "outputs": [],
   "source": [
    "# все товары\n",
    "all_items = data_train.item_id.unique()\n",
    "# топ-5000 товаров\n",
    "top5000 = popularity.sort_values('n_sold', ascending=False).head(5000).item_id.to_list()"
   ]
  },
  {
   "cell_type": "code",
   "execution_count": 185,
   "metadata": {},
   "outputs": [
    {
     "name": "stdout",
     "output_type": "stream",
     "text": [
      "CPU times: user 4.22 s, sys: 0 ns, total: 4.22 s\n",
      "Wall time: 4.22 s\n"
     ]
    }
   ],
   "source": [
    "%%time\n",
    "\n",
    "result['all_items_random'] = result['user_id'].apply(lambda x: random_recommendation(all_items, n=5))\n",
    "result['top5000_random'] = result['user_id'].apply(lambda x: random_recommendation(top5000, n=5))"
   ]
  },
  {
   "cell_type": "code",
   "execution_count": 186,
   "metadata": {},
   "outputs": [
    {
     "name": "stdout",
     "output_type": "stream",
     "text": [
      "CPU times: user 286 ms, sys: 151 ms, total: 437 ms\n",
      "Wall time: 445 ms\n"
     ]
    }
   ],
   "source": [
    "%%time\n",
    "\n",
    "all_items_popular = popularity_recommendation(data_train, n=5)\n",
    "top5000_popular = popularity_recommendation(data_train[data_train['item_id'].isin(top5000)], n=5)\n",
    "\n",
    "result['all_items_popular'] = result['user_id'].apply(lambda x: all_items_popular)\n",
    "result['top5000_popular'] = result['user_id'].apply(lambda x: top5000_popular)"
   ]
  },
  {
   "cell_type": "code",
   "execution_count": 188,
   "metadata": {},
   "outputs": [
    {
     "name": "stdout",
     "output_type": "stream",
     "text": [
      "CPU times: user 3.32 s, sys: 135 ms, total: 3.45 s\n",
      "Wall time: 3.46 s\n"
     ]
    }
   ],
   "source": [
    "%%time\n",
    "\n",
    "all_items_weights = get_weights(data_train)\n",
    "top5000_weights = get_weights(data_train[data_train['item_id'].isin(top5000)])\n",
    "\n",
    "result['all_items_weighted_random'] = result['user_id'].apply(\n",
    "    lambda x: weighted_random_recommendation(all_items_weights, n=5)\n",
    ")\n",
    "result['top5000_weighted_random'] = result['user_id'].apply(\n",
    "    lambda x: weighted_random_recommendation(top5000_weights, n=5)\n",
    ")"
   ]
  },
  {
   "cell_type": "code",
   "execution_count": 189,
   "metadata": {},
   "outputs": [
    {
     "data": {
      "text/html": [
       "<div>\n",
       "<style scoped>\n",
       "    .dataframe tbody tr th:only-of-type {\n",
       "        vertical-align: middle;\n",
       "    }\n",
       "\n",
       "    .dataframe tbody tr th {\n",
       "        vertical-align: top;\n",
       "    }\n",
       "\n",
       "    .dataframe thead th {\n",
       "        text-align: right;\n",
       "    }\n",
       "</style>\n",
       "<table border=\"1\" class=\"dataframe\">\n",
       "  <thead>\n",
       "    <tr style=\"text-align: right;\">\n",
       "      <th></th>\n",
       "      <th>user_id</th>\n",
       "      <th>actual</th>\n",
       "      <th>all_items_random</th>\n",
       "      <th>top5000_random</th>\n",
       "      <th>all_items_popular</th>\n",
       "      <th>top5000_popular</th>\n",
       "      <th>all_items_weighted_random</th>\n",
       "      <th>top5000_weighted_random</th>\n",
       "    </tr>\n",
       "  </thead>\n",
       "  <tbody>\n",
       "    <tr>\n",
       "      <th>0</th>\n",
       "      <td>1</td>\n",
       "      <td>[821867, 834484, 856942, 865456, 889248, 90795...</td>\n",
       "      <td>[917234, 1300415, 99340, 10356824, 9884035]</td>\n",
       "      <td>[920844, 917839, 6979128, 1026118, 844179]</td>\n",
       "      <td>[6534178, 6533889, 1029743, 6534166, 1082185]</td>\n",
       "      <td>[6534178, 6533889, 1029743, 6534166, 1082185]</td>\n",
       "      <td>[946685, 956840, 1071343, 2070738, 9419188]</td>\n",
       "      <td>[1321802, 1015060, 878857, 972763, 7409999]</td>\n",
       "    </tr>\n",
       "    <tr>\n",
       "      <th>1</th>\n",
       "      <td>3</td>\n",
       "      <td>[835476, 851057, 872021, 878302, 879948, 90963...</td>\n",
       "      <td>[13776101, 1115673, 1129947, 965430, 878462]</td>\n",
       "      <td>[1045571, 7157395, 1092446, 13115501, 847066]</td>\n",
       "      <td>[6534178, 6533889, 1029743, 6534166, 1082185]</td>\n",
       "      <td>[6534178, 6533889, 1029743, 6534166, 1082185]</td>\n",
       "      <td>[9337478, 1027011, 872417, 1174852, 920239]</td>\n",
       "      <td>[1034393, 12949308, 10250091, 828073, 845262]</td>\n",
       "    </tr>\n",
       "  </tbody>\n",
       "</table>\n",
       "</div>"
      ],
      "text/plain": [
       "   user_id                                             actual  \\\n",
       "0        1  [821867, 834484, 856942, 865456, 889248, 90795...   \n",
       "1        3  [835476, 851057, 872021, 878302, 879948, 90963...   \n",
       "\n",
       "                               all_items_random  \\\n",
       "0   [917234, 1300415, 99340, 10356824, 9884035]   \n",
       "1  [13776101, 1115673, 1129947, 965430, 878462]   \n",
       "\n",
       "                                  top5000_random  \\\n",
       "0     [920844, 917839, 6979128, 1026118, 844179]   \n",
       "1  [1045571, 7157395, 1092446, 13115501, 847066]   \n",
       "\n",
       "                               all_items_popular  \\\n",
       "0  [6534178, 6533889, 1029743, 6534166, 1082185]   \n",
       "1  [6534178, 6533889, 1029743, 6534166, 1082185]   \n",
       "\n",
       "                                 top5000_popular  \\\n",
       "0  [6534178, 6533889, 1029743, 6534166, 1082185]   \n",
       "1  [6534178, 6533889, 1029743, 6534166, 1082185]   \n",
       "\n",
       "                     all_items_weighted_random  \\\n",
       "0  [946685, 956840, 1071343, 2070738, 9419188]   \n",
       "1  [9337478, 1027011, 872417, 1174852, 920239]   \n",
       "\n",
       "                         top5000_weighted_random  \n",
       "0    [1321802, 1015060, 878857, 972763, 7409999]  \n",
       "1  [1034393, 12949308, 10250091, 828073, 845262]  "
      ]
     },
     "execution_count": 189,
     "metadata": {},
     "output_type": "execute_result"
    }
   ],
   "source": [
    "result.head(2)"
   ]
  },
  {
   "cell_type": "code",
   "execution_count": 111,
   "metadata": {},
   "outputs": [],
   "source": [
    "def precision_at_k(recommended_list, bought_list, k=5):\n",
    "    \n",
    "    bought_list = np.array(bought_list)\n",
    "    recommended_list = np.array(recommended_list)\n",
    "    \n",
    "    bought_list = bought_list  # Тут нет [:k] !!\n",
    "    recommended_list = recommended_list[:k]\n",
    "    \n",
    "    flags = np.isin(bought_list, recommended_list)\n",
    "    \n",
    "    precision = flags.sum() / len(recommended_list)\n",
    "    \n",
    "    \n",
    "    return precision"
   ]
  },
  {
   "cell_type": "markdown",
   "metadata": {},
   "source": [
    "Результаты для удобства запишем в датафрейм."
   ]
  },
  {
   "cell_type": "code",
   "execution_count": 197,
   "metadata": {},
   "outputs": [],
   "source": [
    "suffixes = ['random', 'popular', 'weighted_random']\n",
    "\n",
    "all_items_results = []\n",
    "top5000_results = []\n",
    "\n",
    "for suffix in suffixes:\n",
    "    all_items_results.append(\n",
    "        result.apply(lambda row: precision_at_k(row[f'all_items_{suffix}'], row['actual']), axis=1).mean()\n",
    "    )\n",
    "    top5000_results.append(\n",
    "        result.apply(lambda row: precision_at_k(row[f'top5000_{suffix}'], row['actual']), axis=1).mean()\n",
    "    )\n",
    "    \n",
    "precisions = pd.DataFrame(zip(all_items_results, top5000_results), index=suffixes, columns=['all_items', 'top5000'])"
   ]
  },
  {
   "cell_type": "code",
   "execution_count": 198,
   "metadata": {},
   "outputs": [
    {
     "data": {
      "text/html": [
       "<div>\n",
       "<style scoped>\n",
       "    .dataframe tbody tr th:only-of-type {\n",
       "        vertical-align: middle;\n",
       "    }\n",
       "\n",
       "    .dataframe tbody tr th {\n",
       "        vertical-align: top;\n",
       "    }\n",
       "\n",
       "    .dataframe thead th {\n",
       "        text-align: right;\n",
       "    }\n",
       "</style>\n",
       "<table border=\"1\" class=\"dataframe\">\n",
       "  <thead>\n",
       "    <tr style=\"text-align: right;\">\n",
       "      <th></th>\n",
       "      <th>all_items</th>\n",
       "      <th>top5000</th>\n",
       "    </tr>\n",
       "  </thead>\n",
       "  <tbody>\n",
       "    <tr>\n",
       "      <th>random</th>\n",
       "      <td>0.000392</td>\n",
       "      <td>0.007346</td>\n",
       "    </tr>\n",
       "    <tr>\n",
       "      <th>popular</th>\n",
       "      <td>0.155240</td>\n",
       "      <td>0.155240</td>\n",
       "    </tr>\n",
       "    <tr>\n",
       "      <th>weighted_random</th>\n",
       "      <td>0.001959</td>\n",
       "      <td>0.001371</td>\n",
       "    </tr>\n",
       "  </tbody>\n",
       "</table>\n",
       "</div>"
      ],
      "text/plain": [
       "                 all_items   top5000\n",
       "random            0.000392  0.007346\n",
       "popular           0.155240  0.155240\n",
       "weighted_random   0.001959  0.001371"
      ]
     },
     "execution_count": 198,
     "metadata": {},
     "output_type": "execute_result"
    }
   ],
   "source": [
    "precisions"
   ]
  },
  {
   "cell_type": "markdown",
   "metadata": {},
   "source": [
    "**Предварительные выводы:**\n",
    "\n",
    "* Случайные рекомендации на топ-5000 товаров показали результат лучше, чем на всех товарах.\n",
    "* Рекомендации популярных товаров показывают одинаковый результат, что ожидаемо. Популярные товары чаще покупают, поэтому в пятерку популярных в обоих случаях попадают одни и те же товары.\n",
    "* Взвешенные случайные рекомендации на топ-5000 показали себя чуть хуже, чем на всех товарах. Но возможно, что различия не являются статистически значимыми. Требуется дополнительная проверка."
   ]
  },
  {
   "cell_type": "markdown",
   "metadata": {},
   "source": [
    "Сформулируем гипотезу.\n",
    "\n",
    "**Гипотеза**\n",
    "* Нулевая гипотеза: различия показателей метрики при рекомендациях на всех товарах и топ-5000 товаров **не являются** статистически значимыми\n",
    "* Альтернативная гипотеза: различия показателей метрики **являются** статистически значимыми\n",
    "* Критерий: критерий Манна-Уитни\n",
    "* Уровень значимости $\\alpha$: 0.05\n",
    "* Критическая область: двухсторонняя\n",
    "\n",
    "Для проверки данной гипотезы сделаем 30 случайных/взвешенных случайных рекомендаций для пользователей на всех и топ-5000 товаров. Посчитаем на этих значениях precision_at_k. Затем сравним полученные метрики."
   ]
  },
  {
   "cell_type": "code",
   "execution_count": 203,
   "metadata": {},
   "outputs": [
    {
     "name": "stdout",
     "output_type": "stream",
     "text": [
      "CPU times: user 3min 27s, sys: 17.9 ms, total: 3min 28s\n",
      "Wall time: 3min 28s\n"
     ]
    }
   ],
   "source": [
    "%%time\n",
    "\n",
    "# рекомендации для расчета метрик будем добавлять во временный датафрейм\n",
    "temp = result[['user_id', 'actual']].copy()\n",
    "\n",
    "columns = ['all_items_random', 'top5000_random', 'all_items_weighted_random', 'top5000_weighted_random']\n",
    "results_list = []\n",
    "\n",
    "\n",
    "for _ in range(30):\n",
    "    # временный список для рассчитанных значений метрики\n",
    "    tmp_lst = []\n",
    "    \n",
    "    # делаем рекомендации\n",
    "    temp['all_items_random'] = temp['user_id'].apply(lambda x: random_recommendation(all_items, n=5))\n",
    "    temp['top5000_random'] = temp['user_id'].apply(lambda x: random_recommendation(top5000, n=5))\n",
    "    temp['all_items_weighted_random'] = temp['user_id'].apply(\n",
    "        lambda x: weighted_random_recommendation(all_items_weights, n=5)\n",
    "    )\n",
    "    temp['top5000_weighted_random'] = temp['user_id'].apply(\n",
    "        lambda x: weighted_random_recommendation(top5000_weights, n=5)\n",
    "    )\n",
    "    \n",
    "    # считаем precision_at_k и добавляем во временный список\n",
    "    for col in columns:\n",
    "        tmp_lst.append(temp.apply(lambda row: precision_at_k(row[col], row['actual']), axis=1).mean())\n",
    "        \n",
    "    # времменный список добавляем в список с результатами\n",
    "    results_list.append(tmp_lst)\n",
    "    \n",
    "\n",
    "results_df = pd.DataFrame(results_list, columns=columns)"
   ]
  },
  {
   "cell_type": "code",
   "execution_count": 205,
   "metadata": {},
   "outputs": [
    {
     "data": {
      "text/html": [
       "<div>\n",
       "<style scoped>\n",
       "    .dataframe tbody tr th:only-of-type {\n",
       "        vertical-align: middle;\n",
       "    }\n",
       "\n",
       "    .dataframe tbody tr th {\n",
       "        vertical-align: top;\n",
       "    }\n",
       "\n",
       "    .dataframe thead th {\n",
       "        text-align: right;\n",
       "    }\n",
       "</style>\n",
       "<table border=\"1\" class=\"dataframe\">\n",
       "  <thead>\n",
       "    <tr style=\"text-align: right;\">\n",
       "      <th></th>\n",
       "      <th>all_items_random</th>\n",
       "      <th>top5000_random</th>\n",
       "      <th>all_items_weighted_random</th>\n",
       "      <th>top5000_weighted_random</th>\n",
       "    </tr>\n",
       "  </thead>\n",
       "  <tbody>\n",
       "    <tr>\n",
       "      <th>0</th>\n",
       "      <td>0.000588</td>\n",
       "      <td>0.005681</td>\n",
       "      <td>0.001077</td>\n",
       "      <td>0.001371</td>\n",
       "    </tr>\n",
       "    <tr>\n",
       "      <th>1</th>\n",
       "      <td>0.000294</td>\n",
       "      <td>0.006072</td>\n",
       "      <td>0.000979</td>\n",
       "      <td>0.001763</td>\n",
       "    </tr>\n",
       "    <tr>\n",
       "      <th>2</th>\n",
       "      <td>0.000588</td>\n",
       "      <td>0.006072</td>\n",
       "      <td>0.001469</td>\n",
       "      <td>0.001273</td>\n",
       "    </tr>\n",
       "    <tr>\n",
       "      <th>3</th>\n",
       "      <td>0.000392</td>\n",
       "      <td>0.005583</td>\n",
       "      <td>0.000979</td>\n",
       "      <td>0.000881</td>\n",
       "    </tr>\n",
       "    <tr>\n",
       "      <th>4</th>\n",
       "      <td>0.000784</td>\n",
       "      <td>0.005681</td>\n",
       "      <td>0.000588</td>\n",
       "      <td>0.000979</td>\n",
       "    </tr>\n",
       "    <tr>\n",
       "      <th>5</th>\n",
       "      <td>0.000588</td>\n",
       "      <td>0.005975</td>\n",
       "      <td>0.001273</td>\n",
       "      <td>0.000784</td>\n",
       "    </tr>\n",
       "    <tr>\n",
       "      <th>6</th>\n",
       "      <td>0.000392</td>\n",
       "      <td>0.004995</td>\n",
       "      <td>0.001763</td>\n",
       "      <td>0.001077</td>\n",
       "    </tr>\n",
       "    <tr>\n",
       "      <th>7</th>\n",
       "      <td>0.000784</td>\n",
       "      <td>0.005681</td>\n",
       "      <td>0.001175</td>\n",
       "      <td>0.001665</td>\n",
       "    </tr>\n",
       "    <tr>\n",
       "      <th>8</th>\n",
       "      <td>0.000686</td>\n",
       "      <td>0.005877</td>\n",
       "      <td>0.001371</td>\n",
       "      <td>0.001371</td>\n",
       "    </tr>\n",
       "    <tr>\n",
       "      <th>9</th>\n",
       "      <td>0.000588</td>\n",
       "      <td>0.005583</td>\n",
       "      <td>0.001273</td>\n",
       "      <td>0.001861</td>\n",
       "    </tr>\n",
       "    <tr>\n",
       "      <th>10</th>\n",
       "      <td>0.000881</td>\n",
       "      <td>0.006170</td>\n",
       "      <td>0.000881</td>\n",
       "      <td>0.001567</td>\n",
       "    </tr>\n",
       "    <tr>\n",
       "      <th>11</th>\n",
       "      <td>0.000490</td>\n",
       "      <td>0.006366</td>\n",
       "      <td>0.001567</td>\n",
       "      <td>0.001763</td>\n",
       "    </tr>\n",
       "    <tr>\n",
       "      <th>12</th>\n",
       "      <td>0.000490</td>\n",
       "      <td>0.006562</td>\n",
       "      <td>0.001273</td>\n",
       "      <td>0.001077</td>\n",
       "    </tr>\n",
       "    <tr>\n",
       "      <th>13</th>\n",
       "      <td>0.000392</td>\n",
       "      <td>0.004799</td>\n",
       "      <td>0.001371</td>\n",
       "      <td>0.001077</td>\n",
       "    </tr>\n",
       "    <tr>\n",
       "      <th>14</th>\n",
       "      <td>0.000098</td>\n",
       "      <td>0.006268</td>\n",
       "      <td>0.000881</td>\n",
       "      <td>0.000490</td>\n",
       "    </tr>\n",
       "    <tr>\n",
       "      <th>15</th>\n",
       "      <td>0.000490</td>\n",
       "      <td>0.005975</td>\n",
       "      <td>0.001665</td>\n",
       "      <td>0.001469</td>\n",
       "    </tr>\n",
       "    <tr>\n",
       "      <th>16</th>\n",
       "      <td>0.000392</td>\n",
       "      <td>0.006268</td>\n",
       "      <td>0.001371</td>\n",
       "      <td>0.000784</td>\n",
       "    </tr>\n",
       "    <tr>\n",
       "      <th>17</th>\n",
       "      <td>0.000686</td>\n",
       "      <td>0.006072</td>\n",
       "      <td>0.001665</td>\n",
       "      <td>0.000979</td>\n",
       "    </tr>\n",
       "    <tr>\n",
       "      <th>18</th>\n",
       "      <td>0.000784</td>\n",
       "      <td>0.006954</td>\n",
       "      <td>0.001469</td>\n",
       "      <td>0.001861</td>\n",
       "    </tr>\n",
       "    <tr>\n",
       "      <th>19</th>\n",
       "      <td>0.000294</td>\n",
       "      <td>0.005975</td>\n",
       "      <td>0.000686</td>\n",
       "      <td>0.000979</td>\n",
       "    </tr>\n",
       "    <tr>\n",
       "      <th>20</th>\n",
       "      <td>0.000196</td>\n",
       "      <td>0.005975</td>\n",
       "      <td>0.001567</td>\n",
       "      <td>0.001175</td>\n",
       "    </tr>\n",
       "    <tr>\n",
       "      <th>21</th>\n",
       "      <td>0.001273</td>\n",
       "      <td>0.005387</td>\n",
       "      <td>0.000979</td>\n",
       "      <td>0.001077</td>\n",
       "    </tr>\n",
       "    <tr>\n",
       "      <th>22</th>\n",
       "      <td>0.000392</td>\n",
       "      <td>0.005289</td>\n",
       "      <td>0.000979</td>\n",
       "      <td>0.000979</td>\n",
       "    </tr>\n",
       "    <tr>\n",
       "      <th>23</th>\n",
       "      <td>0.000588</td>\n",
       "      <td>0.004505</td>\n",
       "      <td>0.001763</td>\n",
       "      <td>0.001175</td>\n",
       "    </tr>\n",
       "    <tr>\n",
       "      <th>24</th>\n",
       "      <td>0.000686</td>\n",
       "      <td>0.005093</td>\n",
       "      <td>0.002057</td>\n",
       "      <td>0.001077</td>\n",
       "    </tr>\n",
       "    <tr>\n",
       "      <th>25</th>\n",
       "      <td>0.000392</td>\n",
       "      <td>0.006562</td>\n",
       "      <td>0.001763</td>\n",
       "      <td>0.000686</td>\n",
       "    </tr>\n",
       "    <tr>\n",
       "      <th>26</th>\n",
       "      <td>0.000979</td>\n",
       "      <td>0.006758</td>\n",
       "      <td>0.001371</td>\n",
       "      <td>0.000784</td>\n",
       "    </tr>\n",
       "    <tr>\n",
       "      <th>27</th>\n",
       "      <td>0.000881</td>\n",
       "      <td>0.006072</td>\n",
       "      <td>0.001371</td>\n",
       "      <td>0.001469</td>\n",
       "    </tr>\n",
       "    <tr>\n",
       "      <th>28</th>\n",
       "      <td>0.000979</td>\n",
       "      <td>0.006366</td>\n",
       "      <td>0.001371</td>\n",
       "      <td>0.001861</td>\n",
       "    </tr>\n",
       "    <tr>\n",
       "      <th>29</th>\n",
       "      <td>0.000784</td>\n",
       "      <td>0.005975</td>\n",
       "      <td>0.000979</td>\n",
       "      <td>0.001273</td>\n",
       "    </tr>\n",
       "  </tbody>\n",
       "</table>\n",
       "</div>"
      ],
      "text/plain": [
       "    all_items_random  top5000_random  all_items_weighted_random  \\\n",
       "0           0.000588        0.005681                   0.001077   \n",
       "1           0.000294        0.006072                   0.000979   \n",
       "2           0.000588        0.006072                   0.001469   \n",
       "3           0.000392        0.005583                   0.000979   \n",
       "4           0.000784        0.005681                   0.000588   \n",
       "5           0.000588        0.005975                   0.001273   \n",
       "6           0.000392        0.004995                   0.001763   \n",
       "7           0.000784        0.005681                   0.001175   \n",
       "8           0.000686        0.005877                   0.001371   \n",
       "9           0.000588        0.005583                   0.001273   \n",
       "10          0.000881        0.006170                   0.000881   \n",
       "11          0.000490        0.006366                   0.001567   \n",
       "12          0.000490        0.006562                   0.001273   \n",
       "13          0.000392        0.004799                   0.001371   \n",
       "14          0.000098        0.006268                   0.000881   \n",
       "15          0.000490        0.005975                   0.001665   \n",
       "16          0.000392        0.006268                   0.001371   \n",
       "17          0.000686        0.006072                   0.001665   \n",
       "18          0.000784        0.006954                   0.001469   \n",
       "19          0.000294        0.005975                   0.000686   \n",
       "20          0.000196        0.005975                   0.001567   \n",
       "21          0.001273        0.005387                   0.000979   \n",
       "22          0.000392        0.005289                   0.000979   \n",
       "23          0.000588        0.004505                   0.001763   \n",
       "24          0.000686        0.005093                   0.002057   \n",
       "25          0.000392        0.006562                   0.001763   \n",
       "26          0.000979        0.006758                   0.001371   \n",
       "27          0.000881        0.006072                   0.001371   \n",
       "28          0.000979        0.006366                   0.001371   \n",
       "29          0.000784        0.005975                   0.000979   \n",
       "\n",
       "    top5000_weighted_random  \n",
       "0                  0.001371  \n",
       "1                  0.001763  \n",
       "2                  0.001273  \n",
       "3                  0.000881  \n",
       "4                  0.000979  \n",
       "5                  0.000784  \n",
       "6                  0.001077  \n",
       "7                  0.001665  \n",
       "8                  0.001371  \n",
       "9                  0.001861  \n",
       "10                 0.001567  \n",
       "11                 0.001763  \n",
       "12                 0.001077  \n",
       "13                 0.001077  \n",
       "14                 0.000490  \n",
       "15                 0.001469  \n",
       "16                 0.000784  \n",
       "17                 0.000979  \n",
       "18                 0.001861  \n",
       "19                 0.000979  \n",
       "20                 0.001175  \n",
       "21                 0.001077  \n",
       "22                 0.000979  \n",
       "23                 0.001175  \n",
       "24                 0.001077  \n",
       "25                 0.000686  \n",
       "26                 0.000784  \n",
       "27                 0.001469  \n",
       "28                 0.001861  \n",
       "29                 0.001273  "
      ]
     },
     "execution_count": 205,
     "metadata": {},
     "output_type": "execute_result"
    }
   ],
   "source": [
    "results_df"
   ]
  },
  {
   "cell_type": "code",
   "execution_count": 208,
   "metadata": {},
   "outputs": [
    {
     "name": "stdout",
     "output_type": "stream",
     "text": [
      "MannwhitneyuResult(statistic=0.0, pvalue=1.4431639208503317e-11)\n"
     ]
    },
    {
     "data": {
      "image/png": "[encoded data removed]",
      "text/plain": [
       "<Figure size 1224x576 with 1 Axes>"
      ]
     },
     "metadata": {
      "needs_background": "light"
     },
     "output_type": "display_data"
    }
   ],
   "source": [
    "plt.figure(figsize=(17, 8))\n",
    "\n",
    "sns.kdeplot(results_df['all_items_random'], shade=True, label='all items', color='r')\n",
    "sns.kdeplot(results_df['top5000_random'], shade=True, label='top 5000', color='g')\n",
    "plt.legend()\n",
    "\n",
    "print(mannwhitneyu(results_df['all_items_random'], results_df['top5000_random']))"
   ]
  },
  {
   "cell_type": "markdown",
   "metadata": {},
   "source": [
    "Различия показателей метрики при случайных рекомендациях на всех товарах и топ-5000 товаров являются статистически значимыми. Значение p-value ниже порогового. \n",
    "\n",
    "Для **случайных рекомендаций отклоняется нулевая гипотеза**."
   ]
  },
  {
   "cell_type": "code",
   "execution_count": 207,
   "metadata": {},
   "outputs": [
    {
     "name": "stdout",
     "output_type": "stream",
     "text": [
      "MannwhitneyuResult(statistic=394.5, pvalue=0.20736603526916292)\n"
     ]
    },
    {
     "data": {
      "image/png": "[encoded data removed]",
      "text/plain": [
       "<Figure size 1224x576 with 1 Axes>"
      ]
     },
     "metadata": {
      "needs_background": "light"
     },
     "output_type": "display_data"
    }
   ],
   "source": [
    "plt.figure(figsize=(17, 8))\n",
    "\n",
    "sns.kdeplot(results_df['all_items_weighted_random'], shade=True, label='all items', color='r')\n",
    "sns.kdeplot(results_df['top5000_weighted_random'], shade=True, label='top 5000', color='g')\n",
    "plt.legend()\n",
    "\n",
    "print(mannwhitneyu(results_df['all_items_weighted_random'], results_df['top5000_weighted_random']))"
   ]
  },
  {
   "cell_type": "markdown",
   "metadata": {},
   "source": [
    "Различия показателей метрики при взвешенных случайных рекомендациях на всех товарах и топ-5000 товаров не являются статистически значимыми. Значение p-value выше порогового. \n",
    "\n",
    "Для **взвешенных случайных рекомендаций отклоняется альтернативная гипотеза**. "
   ]
  },
  {
   "cell_type": "markdown",
   "metadata": {},
   "source": [
    "### Вывод:\n",
    "\n",
    "Случайные рекомендации на топ-5000 товарах, получаются более качественными в отличии от случайных рекомендаций на всех товарах. \n",
    "\n",
    "Метрики при взвешенных случайных рекомендациях на топ-5000 и всех товарах не имеют статистически значимых различий."
   ]
  }
 ],
 "metadata": {
  "kernelspec": {
   "display_name": "Python 3",
   "language": "python",
   "name": "python3"
  },
  "language_info": {
   "codemirror_mode": {
    "name": "ipython",
    "version": 3
   },
   "file_extension": ".py",
   "mimetype": "text/x-python",
   "name": "python",
   "nbconvert_exporter": "python",
   "pygments_lexer": "ipython3",
   "version": "3.8.10"
  }
 },
 "nbformat": 4,
 "nbformat_minor": 4
}
